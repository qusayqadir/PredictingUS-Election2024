{
 "cells": [
  {
   "cell_type": "markdown",
   "metadata": {},
   "source": [
    "Before writing code in attempt to predicintg the US Presidential Election winner it is important to understand the data. \n",
    "Collected Data (All data was sourced from Kaggle): \n",
    "- Historical Election Data (2020) \n",
    "- Election Polling (2024)\n",
    "- US President Economic Indicators (1981 - 2021)\n",
    "- Social Sentiment of Election Candidates (Twitter 2020)\n",
    "\n",
    "Historically, the race for the presidential election has been amongst two winning parties \\bold{Democratics} (D) and \\bold{Republicans} (R). Correctly predicitng the election can be challenging, it is even more so when such predictions can be linked to making volatile financial decisions. \n",
    "\n",
    "Such decisions can be linked for decidiing : \n",
    "1. Market Stability  + Investor confidence -> Stock market reaction, investment startegies \n",
    "2. Secotor-Specific Imapcts ( Health, Energy, ...)\n",
    "3. Regulatorty Changes, Corporate Tax Policies, Tariffs and Trade Policies \n",
    "4. Impact on consumptions (interest rates (mortages, loans, bonds))+ Job Market (umemployement rate)\n",
    "\n",
    "\n",
    "Before creating ML and DeepLearning Models it is important to conduct Explaratory Data Analysis (EDA) to better understand the structure of the data you are working with, idenitfying relationships, patterns, outliers and anomalies, to ultimately imporve model performance and reliable results.\n"
   ]
  },
  {
   "cell_type": "markdown",
   "metadata": {},
   "source": [
    "Penultimate step EDA: \n",
    "### 1) Data Cleaning/Restructure"
   ]
  },
  {
   "cell_type": "code",
   "execution_count": 80,
   "metadata": {},
   "outputs": [],
   "source": [
    "import pandas as pd\n",
    "pd.set_option('display.max_columns', 200)\n",
    "import numpy as np \n",
    "import seaborn as sns\n",
    "import matplotlib.pyplot as plt"
   ]
  },
  {
   "cell_type": "markdown",
   "metadata": {},
   "source": [
    "1) US Economy President KPI ( Key Performance Indicator ) dataset"
   ]
  },
  {
   "cell_type": "code",
   "execution_count": 81,
   "metadata": {},
   "outputs": [
    {
     "name": "stdout",
     "output_type": "stream",
     "text": [
      "count                43\n",
      "unique                7\n",
      "top       Ronald Reagan\n",
      "freq                  8\n",
      "Name: Presidents, dtype: object\n",
      "['Ronald Reagan' 'George Bush' 'Bill Clinton' 'George W. Bush'\n",
      " 'Barack Obama' 'Donald Trump' 'Joe Biden']\n"
     ]
    },
    {
     "data": {
      "text/html": [
       "<div>\n",
       "<style scoped>\n",
       "    .dataframe tbody tr th:only-of-type {\n",
       "        vertical-align: middle;\n",
       "    }\n",
       "\n",
       "    .dataframe tbody tr th {\n",
       "        vertical-align: top;\n",
       "    }\n",
       "\n",
       "    .dataframe thead th {\n",
       "        text-align: right;\n",
       "    }\n",
       "</style>\n",
       "<table border=\"1\" class=\"dataframe\">\n",
       "  <thead>\n",
       "    <tr style=\"text-align: right;\">\n",
       "      <th></th>\n",
       "      <th>Presidents</th>\n",
       "      <th>Year</th>\n",
       "      <th>GDP per capita (in US$ PPP)</th>\n",
       "      <th>GDP (in Bil. US$nominal)</th>\n",
       "      <th>GDP per capita (in US$ nominal)</th>\n",
       "      <th>GDP growth %</th>\n",
       "      <th>Inflation rate %</th>\n",
       "      <th>Unemployment %</th>\n",
       "      <th>Government debt (in % of GDP)</th>\n",
       "    </tr>\n",
       "  </thead>\n",
       "  <tbody>\n",
       "    <tr>\n",
       "      <th>38</th>\n",
       "      <td>rep</td>\n",
       "      <td>2019</td>\n",
       "      <td>65077.3</td>\n",
       "      <td>21381.0</td>\n",
       "      <td>65077.3</td>\n",
       "      <td>2.30%</td>\n",
       "      <td>1.80%</td>\n",
       "      <td>3.70%</td>\n",
       "      <td>108.80%</td>\n",
       "    </tr>\n",
       "    <tr>\n",
       "      <th>39</th>\n",
       "      <td>rep</td>\n",
       "      <td>2020</td>\n",
       "      <td>63577.3</td>\n",
       "      <td>21060.5</td>\n",
       "      <td>63577.3</td>\n",
       "      <td>-2.80%</td>\n",
       "      <td>1.20%</td>\n",
       "      <td>8.10%</td>\n",
       "      <td>133.40%</td>\n",
       "    </tr>\n",
       "    <tr>\n",
       "      <th>40</th>\n",
       "      <td>dem</td>\n",
       "      <td>2021</td>\n",
       "      <td>70159.8</td>\n",
       "      <td>23315.1</td>\n",
       "      <td>70159.8</td>\n",
       "      <td>5.90%</td>\n",
       "      <td>4.70%</td>\n",
       "      <td>5.40%</td>\n",
       "      <td>126.40%</td>\n",
       "    </tr>\n",
       "    <tr>\n",
       "      <th>41</th>\n",
       "      <td>dem</td>\n",
       "      <td>2022</td>\n",
       "      <td>76348.5</td>\n",
       "      <td>25464.5</td>\n",
       "      <td>76348.5</td>\n",
       "      <td>2.10%</td>\n",
       "      <td>8.00%</td>\n",
       "      <td>3.60%</td>\n",
       "      <td>121.70%</td>\n",
       "    </tr>\n",
       "    <tr>\n",
       "      <th>42</th>\n",
       "      <td>dem</td>\n",
       "      <td>2023</td>\n",
       "      <td>80034.6</td>\n",
       "      <td>26854.6</td>\n",
       "      <td>80034.6</td>\n",
       "      <td>1.60%</td>\n",
       "      <td>4.50%</td>\n",
       "      <td>3.80%</td>\n",
       "      <td>122.20%</td>\n",
       "    </tr>\n",
       "  </tbody>\n",
       "</table>\n",
       "</div>"
      ],
      "text/plain": [
       "   Presidents  Year  GDP per capita (in US$ PPP)  GDP (in Bil. US$nominal)  \\\n",
       "38        rep  2019                      65077.3                   21381.0   \n",
       "39        rep  2020                      63577.3                   21060.5   \n",
       "40        dem  2021                      70159.8                   23315.1   \n",
       "41        dem  2022                      76348.5                   25464.5   \n",
       "42        dem  2023                      80034.6                   26854.6   \n",
       "\n",
       "    GDP per capita (in US$ nominal) GDP growth % Inflation rate %  \\\n",
       "38                          65077.3        2.30%            1.80%   \n",
       "39                          63577.3       -2.80%            1.20%   \n",
       "40                          70159.8        5.90%            4.70%   \n",
       "41                          76348.5        2.10%            8.00%   \n",
       "42                          80034.6        1.60%            4.50%   \n",
       "\n",
       "   Unemployment % Government debt (in % of GDP)  \n",
       "38          3.70%                       108.80%  \n",
       "39          8.10%                       133.40%  \n",
       "40          5.40%                       126.40%  \n",
       "41          3.60%                       121.70%  \n",
       "42          3.80%                       122.20%  "
      ]
     },
     "execution_count": 81,
     "metadata": {},
     "output_type": "execute_result"
    }
   ],
   "source": [
    "df_economy = pd.read_csv(\"Data/USA Economy Growth.csv\", encoding='ISO-8859-1') \n",
    "df_economy.head()\n",
    "\n",
    "# reorder the csv file columns for better reading\n",
    "new_order = ['Presidents', 'Year'] + list(df_economy.columns[2:9])\n",
    "df_economy = df_economy.reindex(columns = new_order) \n",
    "\n",
    "# Name does not matter, what matters is the party the president represents \n",
    "print(df_economy['Presidents'].describe())\n",
    "names = df_economy['Presidents'].unique()\n",
    "print(names)\n",
    "\n",
    "\n",
    "df_economy['Presidents'] = df_economy['Presidents'].replace({'Ronald Reagan':'rep', 'George Bush':'rep', 'Bill Clinton':'dem', 'George W. Bush':'rep', 'Barack Obama':'dem', 'Donald Trump':'rep', 'Joe Biden':'dem'})\n",
    "df_economy.tail()\n",
    "\n"
   ]
  },
  {
   "cell_type": "code",
   "execution_count": 82,
   "metadata": {},
   "outputs": [
    {
     "data": {
      "text/plain": [
       "Presidents                         0\n",
       "Year                               0\n",
       "GDP per capita (in US$ PPP)        0\n",
       "GDP (in Bil. US$nominal)           0\n",
       "GDP per capita (in US$ nominal)    0\n",
       "GDP growth %                       0\n",
       "Inflation rate %                   0\n",
       "Unemployment %                     0\n",
       "Government debt (in % of GDP)      0\n",
       "dtype: int64"
      ]
     },
     "execution_count": 82,
     "metadata": {},
     "output_type": "execute_result"
    }
   ],
   "source": [
    "df_economy.isna().sum()"
   ]
  },
  {
   "cell_type": "markdown",
   "metadata": {},
   "source": [
    "dont need to worry about an incomplete dataset. \n",
    "\n",
    "The dataset is quite concise, and all the columns are KPI of how each president performed economically for the nation since such KPIs are used to deteremine economic health, growth potential and stability. "
   ]
  },
  {
   "cell_type": "markdown",
   "metadata": {},
   "source": [
    "2. Election Polling "
   ]
  },
  {
   "cell_type": "code",
   "execution_count": 83,
   "metadata": {},
   "outputs": [
    {
     "data": {
      "text/html": [
       "<div>\n",
       "<style scoped>\n",
       "    .dataframe tbody tr th:only-of-type {\n",
       "        vertical-align: middle;\n",
       "    }\n",
       "\n",
       "    .dataframe tbody tr th {\n",
       "        vertical-align: top;\n",
       "    }\n",
       "\n",
       "    .dataframe thead th {\n",
       "        text-align: right;\n",
       "    }\n",
       "</style>\n",
       "<table border=\"1\" class=\"dataframe\">\n",
       "  <thead>\n",
       "    <tr style=\"text-align: right;\">\n",
       "      <th></th>\n",
       "      <th>poll_id</th>\n",
       "      <th>pollster_id</th>\n",
       "      <th>pollster_rating_id</th>\n",
       "      <th>numeric_grade</th>\n",
       "      <th>pollscore</th>\n",
       "      <th>transparency_score</th>\n",
       "      <th>state</th>\n",
       "      <th>sponsor_candidate_id</th>\n",
       "      <th>sponsor_candidate</th>\n",
       "      <th>sponsor_candidate_party</th>\n",
       "      <th>question_id</th>\n",
       "      <th>sample_size</th>\n",
       "      <th>source</th>\n",
       "      <th>race_id</th>\n",
       "      <th>cycle</th>\n",
       "      <th>seat_number</th>\n",
       "      <th>dem</th>\n",
       "      <th>rep</th>\n",
       "      <th>ind</th>\n",
       "    </tr>\n",
       "  </thead>\n",
       "  <tbody>\n",
       "    <tr>\n",
       "      <th>count</th>\n",
       "      <td>616.000000</td>\n",
       "      <td>616.000000</td>\n",
       "      <td>616.000000</td>\n",
       "      <td>576.000000</td>\n",
       "      <td>576.000000</td>\n",
       "      <td>239.000000</td>\n",
       "      <td>0.0</td>\n",
       "      <td>0.0</td>\n",
       "      <td>0.0</td>\n",
       "      <td>0.0</td>\n",
       "      <td>616.000000</td>\n",
       "      <td>608.000000</td>\n",
       "      <td>0.0</td>\n",
       "      <td>616.0</td>\n",
       "      <td>616.0</td>\n",
       "      <td>0.0</td>\n",
       "      <td>616.000000</td>\n",
       "      <td>616.000000</td>\n",
       "      <td>0.0</td>\n",
       "    </tr>\n",
       "    <tr>\n",
       "      <th>mean</th>\n",
       "      <td>84598.071429</td>\n",
       "      <td>1060.521104</td>\n",
       "      <td>280.863636</td>\n",
       "      <td>1.912674</td>\n",
       "      <td>-0.226910</td>\n",
       "      <td>6.083682</td>\n",
       "      <td>NaN</td>\n",
       "      <td>NaN</td>\n",
       "      <td>NaN</td>\n",
       "      <td>NaN</td>\n",
       "      <td>185224.313312</td>\n",
       "      <td>4064.430921</td>\n",
       "      <td>NaN</td>\n",
       "      <td>9549.0</td>\n",
       "      <td>2024.0</td>\n",
       "      <td>NaN</td>\n",
       "      <td>44.544903</td>\n",
       "      <td>43.834416</td>\n",
       "      <td>NaN</td>\n",
       "    </tr>\n",
       "    <tr>\n",
       "      <th>std</th>\n",
       "      <td>1564.734963</td>\n",
       "      <td>433.561353</td>\n",
       "      <td>166.227147</td>\n",
       "      <td>0.668623</td>\n",
       "      <td>0.736635</td>\n",
       "      <td>2.727718</td>\n",
       "      <td>NaN</td>\n",
       "      <td>NaN</td>\n",
       "      <td>NaN</td>\n",
       "      <td>NaN</td>\n",
       "      <td>9594.481417</td>\n",
       "      <td>3043.419823</td>\n",
       "      <td>NaN</td>\n",
       "      <td>0.0</td>\n",
       "      <td>0.0</td>\n",
       "      <td>NaN</td>\n",
       "      <td>2.017888</td>\n",
       "      <td>2.248153</td>\n",
       "      <td>NaN</td>\n",
       "    </tr>\n",
       "    <tr>\n",
       "      <th>min</th>\n",
       "      <td>81694.000000</td>\n",
       "      <td>194.000000</td>\n",
       "      <td>37.000000</td>\n",
       "      <td>0.500000</td>\n",
       "      <td>-1.300000</td>\n",
       "      <td>1.000000</td>\n",
       "      <td>NaN</td>\n",
       "      <td>NaN</td>\n",
       "      <td>NaN</td>\n",
       "      <td>NaN</td>\n",
       "      <td>165625.000000</td>\n",
       "      <td>500.000000</td>\n",
       "      <td>NaN</td>\n",
       "      <td>9549.0</td>\n",
       "      <td>2024.0</td>\n",
       "      <td>NaN</td>\n",
       "      <td>36.000000</td>\n",
       "      <td>35.000000</td>\n",
       "      <td>NaN</td>\n",
       "    </tr>\n",
       "    <tr>\n",
       "      <th>25%</th>\n",
       "      <td>83517.750000</td>\n",
       "      <td>568.000000</td>\n",
       "      <td>218.000000</td>\n",
       "      <td>1.800000</td>\n",
       "      <td>-0.600000</td>\n",
       "      <td>4.000000</td>\n",
       "      <td>NaN</td>\n",
       "      <td>NaN</td>\n",
       "      <td>NaN</td>\n",
       "      <td>NaN</td>\n",
       "      <td>179127.750000</td>\n",
       "      <td>1100.000000</td>\n",
       "      <td>NaN</td>\n",
       "      <td>9549.0</td>\n",
       "      <td>2024.0</td>\n",
       "      <td>NaN</td>\n",
       "      <td>43.000000</td>\n",
       "      <td>43.000000</td>\n",
       "      <td>NaN</td>\n",
       "    </tr>\n",
       "    <tr>\n",
       "      <th>50%</th>\n",
       "      <td>83671.500000</td>\n",
       "      <td>1189.000000</td>\n",
       "      <td>218.000000</td>\n",
       "      <td>1.800000</td>\n",
       "      <td>-0.200000</td>\n",
       "      <td>6.000000</td>\n",
       "      <td>NaN</td>\n",
       "      <td>NaN</td>\n",
       "      <td>NaN</td>\n",
       "      <td>NaN</td>\n",
       "      <td>179281.500000</td>\n",
       "      <td>2012.500000</td>\n",
       "      <td>NaN</td>\n",
       "      <td>9549.0</td>\n",
       "      <td>2024.0</td>\n",
       "      <td>NaN</td>\n",
       "      <td>45.000000</td>\n",
       "      <td>43.000000</td>\n",
       "      <td>NaN</td>\n",
       "    </tr>\n",
       "    <tr>\n",
       "      <th>75%</th>\n",
       "      <td>85911.000000</td>\n",
       "      <td>1189.000000</td>\n",
       "      <td>385.000000</td>\n",
       "      <td>2.400000</td>\n",
       "      <td>-0.200000</td>\n",
       "      <td>9.000000</td>\n",
       "      <td>NaN</td>\n",
       "      <td>NaN</td>\n",
       "      <td>NaN</td>\n",
       "      <td>NaN</td>\n",
       "      <td>191983.250000</td>\n",
       "      <td>7439.000000</td>\n",
       "      <td>NaN</td>\n",
       "      <td>9549.0</td>\n",
       "      <td>2024.0</td>\n",
       "      <td>NaN</td>\n",
       "      <td>46.000000</td>\n",
       "      <td>45.015000</td>\n",
       "      <td>NaN</td>\n",
       "    </tr>\n",
       "    <tr>\n",
       "      <th>max</th>\n",
       "      <td>87791.000000</td>\n",
       "      <td>1888.000000</td>\n",
       "      <td>861.000000</td>\n",
       "      <td>3.000000</td>\n",
       "      <td>1.700000</td>\n",
       "      <td>10.000000</td>\n",
       "      <td>NaN</td>\n",
       "      <td>NaN</td>\n",
       "      <td>NaN</td>\n",
       "      <td>NaN</td>\n",
       "      <td>206110.000000</td>\n",
       "      <td>8753.000000</td>\n",
       "      <td>NaN</td>\n",
       "      <td>9549.0</td>\n",
       "      <td>2024.0</td>\n",
       "      <td>NaN</td>\n",
       "      <td>52.000000</td>\n",
       "      <td>52.000000</td>\n",
       "      <td>NaN</td>\n",
       "    </tr>\n",
       "  </tbody>\n",
       "</table>\n",
       "</div>"
      ],
      "text/plain": [
       "            poll_id  pollster_id  pollster_rating_id  numeric_grade  \\\n",
       "count    616.000000   616.000000          616.000000     576.000000   \n",
       "mean   84598.071429  1060.521104          280.863636       1.912674   \n",
       "std     1564.734963   433.561353          166.227147       0.668623   \n",
       "min    81694.000000   194.000000           37.000000       0.500000   \n",
       "25%    83517.750000   568.000000          218.000000       1.800000   \n",
       "50%    83671.500000  1189.000000          218.000000       1.800000   \n",
       "75%    85911.000000  1189.000000          385.000000       2.400000   \n",
       "max    87791.000000  1888.000000          861.000000       3.000000   \n",
       "\n",
       "        pollscore  transparency_score  state  sponsor_candidate_id  \\\n",
       "count  576.000000          239.000000    0.0                   0.0   \n",
       "mean    -0.226910            6.083682    NaN                   NaN   \n",
       "std      0.736635            2.727718    NaN                   NaN   \n",
       "min     -1.300000            1.000000    NaN                   NaN   \n",
       "25%     -0.600000            4.000000    NaN                   NaN   \n",
       "50%     -0.200000            6.000000    NaN                   NaN   \n",
       "75%     -0.200000            9.000000    NaN                   NaN   \n",
       "max      1.700000           10.000000    NaN                   NaN   \n",
       "\n",
       "       sponsor_candidate  sponsor_candidate_party    question_id  sample_size  \\\n",
       "count                0.0                      0.0     616.000000   608.000000   \n",
       "mean                 NaN                      NaN  185224.313312  4064.430921   \n",
       "std                  NaN                      NaN    9594.481417  3043.419823   \n",
       "min                  NaN                      NaN  165625.000000   500.000000   \n",
       "25%                  NaN                      NaN  179127.750000  1100.000000   \n",
       "50%                  NaN                      NaN  179281.500000  2012.500000   \n",
       "75%                  NaN                      NaN  191983.250000  7439.000000   \n",
       "max                  NaN                      NaN  206110.000000  8753.000000   \n",
       "\n",
       "       source  race_id   cycle  seat_number         dem         rep  ind  \n",
       "count     0.0    616.0   616.0          0.0  616.000000  616.000000  0.0  \n",
       "mean      NaN   9549.0  2024.0          NaN   44.544903   43.834416  NaN  \n",
       "std       NaN      0.0     0.0          NaN    2.017888    2.248153  NaN  \n",
       "min       NaN   9549.0  2024.0          NaN   36.000000   35.000000  NaN  \n",
       "25%       NaN   9549.0  2024.0          NaN   43.000000   43.000000  NaN  \n",
       "50%       NaN   9549.0  2024.0          NaN   45.000000   43.000000  NaN  \n",
       "75%       NaN   9549.0  2024.0          NaN   46.000000   45.015000  NaN  \n",
       "max       NaN   9549.0  2024.0          NaN   52.000000   52.000000  NaN  "
      ]
     },
     "execution_count": 83,
     "metadata": {},
     "output_type": "execute_result"
    }
   ],
   "source": [
    "df_polling = pd.read_csv(\"Data/ElectionPollingData2024.csv\", encoding = 'ISO-8859-1')\n",
    "\n",
    "df_polling.shape\n",
    "df_polling.dtypes\n",
    "df_polling.describe()"
   ]
  },
  {
   "cell_type": "code",
   "execution_count": 84,
   "metadata": {},
   "outputs": [
    {
     "name": "stdout",
     "output_type": "stream",
     "text": [
      "(616, 41)\n",
      "Index(['poll_id', 'pollster_id', 'pollster', 'sponsor_ids', 'sponsors',\n",
      "       'display_name', 'pollster_rating_id', 'pollster_rating_name',\n",
      "       'numeric_grade', 'pollscore', 'methodology', 'transparency_score',\n",
      "       'state', 'start_date', 'end_date', 'sponsor_candidate_id',\n",
      "       'sponsor_candidate', 'sponsor_candidate_party', 'question_id',\n",
      "       'sample_size', 'population', 'subpopulation', 'population_full',\n",
      "       'tracking', 'created_at', 'notes', 'url', 'source', 'internal',\n",
      "       'partisan', 'race_id', 'cycle', 'office_type', 'seat_number',\n",
      "       'seat_name', 'election_date', 'stage', 'nationwide_batch', 'dem', 'rep',\n",
      "       'ind'],\n",
      "      dtype='object')\n"
     ]
    },
    {
     "data": {
      "text/plain": [
       "poll_id                      0\n",
       "pollster_id                  0\n",
       "pollster                     0\n",
       "sponsor_ids                423\n",
       "sponsors                   423\n",
       "display_name                 0\n",
       "pollster_rating_id           0\n",
       "pollster_rating_name         0\n",
       "numeric_grade               40\n",
       "pollscore                   40\n",
       "methodology                 30\n",
       "transparency_score         377\n",
       "state                      616\n",
       "start_date                   0\n",
       "end_date                     0\n",
       "sponsor_candidate_id       616\n",
       "sponsor_candidate          616\n",
       "sponsor_candidate_party    616\n",
       "question_id                  0\n",
       "sample_size                  8\n",
       "population                   0\n",
       "subpopulation              615\n",
       "population_full              0\n",
       "tracking                   347\n",
       "created_at                   0\n",
       "notes                      610\n",
       "url                          0\n",
       "source                     616\n",
       "internal                   596\n",
       "partisan                   543\n",
       "race_id                      0\n",
       "cycle                        0\n",
       "office_type                  0\n",
       "seat_number                616\n",
       "seat_name                    0\n",
       "election_date                0\n",
       "stage                        0\n",
       "nationwide_batch             0\n",
       "dem                          0\n",
       "rep                          0\n",
       "ind                        616\n",
       "dtype: int64"
      ]
     },
     "execution_count": 84,
     "metadata": {},
     "output_type": "execute_result"
    }
   ],
   "source": [
    "print(df_polling.shape)\n",
    "print(df_polling.columns.unique())\n",
    "df_polling.isnull().sum()"
   ]
  },
  {
   "cell_type": "code",
   "execution_count": 85,
   "metadata": {},
   "outputs": [
    {
     "data": {
      "text/html": [
       "<div>\n",
       "<style scoped>\n",
       "    .dataframe tbody tr th:only-of-type {\n",
       "        vertical-align: middle;\n",
       "    }\n",
       "\n",
       "    .dataframe tbody tr th {\n",
       "        vertical-align: top;\n",
       "    }\n",
       "\n",
       "    .dataframe thead th {\n",
       "        text-align: right;\n",
       "    }\n",
       "</style>\n",
       "<table border=\"1\" class=\"dataframe\">\n",
       "  <thead>\n",
       "    <tr style=\"text-align: right;\">\n",
       "      <th></th>\n",
       "      <th>state</th>\n",
       "    </tr>\n",
       "  </thead>\n",
       "  <tbody>\n",
       "    <tr>\n",
       "      <th>0</th>\n",
       "      <td>NaN</td>\n",
       "    </tr>\n",
       "    <tr>\n",
       "      <th>1</th>\n",
       "      <td>NaN</td>\n",
       "    </tr>\n",
       "    <tr>\n",
       "      <th>2</th>\n",
       "      <td>NaN</td>\n",
       "    </tr>\n",
       "    <tr>\n",
       "      <th>3</th>\n",
       "      <td>NaN</td>\n",
       "    </tr>\n",
       "    <tr>\n",
       "      <th>4</th>\n",
       "      <td>NaN</td>\n",
       "    </tr>\n",
       "    <tr>\n",
       "      <th>5</th>\n",
       "      <td>NaN</td>\n",
       "    </tr>\n",
       "    <tr>\n",
       "      <th>6</th>\n",
       "      <td>NaN</td>\n",
       "    </tr>\n",
       "    <tr>\n",
       "      <th>7</th>\n",
       "      <td>NaN</td>\n",
       "    </tr>\n",
       "    <tr>\n",
       "      <th>8</th>\n",
       "      <td>NaN</td>\n",
       "    </tr>\n",
       "    <tr>\n",
       "      <th>9</th>\n",
       "      <td>NaN</td>\n",
       "    </tr>\n",
       "    <tr>\n",
       "      <th>10</th>\n",
       "      <td>NaN</td>\n",
       "    </tr>\n",
       "  </tbody>\n",
       "</table>\n",
       "</div>"
      ],
      "text/plain": [
       "    state\n",
       "0     NaN\n",
       "1     NaN\n",
       "2     NaN\n",
       "3     NaN\n",
       "4     NaN\n",
       "5     NaN\n",
       "6     NaN\n",
       "7     NaN\n",
       "8     NaN\n",
       "9     NaN\n",
       "10    NaN"
      ]
     },
     "execution_count": 85,
     "metadata": {},
     "output_type": "execute_result"
    }
   ],
   "source": [
    "df_polling.loc[0:10,['state']]"
   ]
  },
  {
   "cell_type": "markdown",
   "metadata": {},
   "source": [
    "it seems like this dataset for the election polling focuses on nation wide representation of the preferred electoral office thus the state column has been omitted. -> This can be drooped. "
   ]
  },
  {
   "cell_type": "code",
   "execution_count": 86,
   "metadata": {},
   "outputs": [],
   "source": [
    "# dropped the state column, but the code is left here for reference \n",
    "#df_polling.drop(columns='state', axis=1, inplace=True)\n",
    "#print(df_polling.columns.unique()) --> proof"
   ]
  },
  {
   "cell_type": "markdown",
   "metadata": {},
   "source": [
    "What columns should be kept? \n",
    "\n",
    "Poll Results -> are they Democratic, Republican, or Independent \n",
    "\n",
    "Pollster Information -> pollster, pollscore, pollster_rating_name \n",
    "(reliability and grading of a pollster )\n",
    "\n",
    "race_id -> \n"
   ]
  },
  {
   "cell_type": "markdown",
   "metadata": {},
   "source": [
    "Is pollster information really important? lets crete a probability distribution chart for the numeric grade that exsists, becuase this number reflects the accuracy and the quality of the polls. \n",
    "A higher numeric grade indicates that the pollster has a strong track record of accurately predicting election results.\n",
    "\n",
    "Transparency score? this can be evaluated after seeing the numeric grade distribtuon (if there is one). "
   ]
  },
  {
   "cell_type": "code",
   "execution_count": 87,
   "metadata": {},
   "outputs": [
    {
     "data": {
      "image/png": "[encoded data removed]",
      "text/plain": [
       "<Figure size 2000x1000 with 1 Axes>"
      ]
     },
     "metadata": {},
     "output_type": "display_data"
    }
   ],
   "source": [
    "plt.figure(figsize=(20,10))\n",
    "sns.histplot(df_polling['numeric_grade'], kde=True, bins=30, color = 'blue')\n",
    "plt.title('Probability Distribution for numeric_score for polling data ')\n",
    "plt.grid(True)"
   ]
  },
  {
   "cell_type": "markdown",
   "metadata": {},
   "source": [
    "Numeric Score: \n",
    "\n",
    "- Excellent Pollsters: Scores in the 3.5 to 5.0 range\n",
    "- Good Pollsters: Scores in the 2.5 to 3.5 range\n",
    "- Average Pollsters: Scores in the 1.5 to 2.5 range\n",
    "- Below Average Pollsters: Scores below 1.5\n",
    "\n",
    "Thus, taking the poll results by pollsters who have a numeric_score of 1.75 or above will be a representation of reliable results and since majority of the data comes from that section it should be suitable. \n",
    "\n",
    "Is this considered overfitting? "
   ]
  },
  {
   "cell_type": "markdown",
   "metadata": {},
   "source": [
    "we will create a new DataFrame with these columns: \n",
    "\n",
    "poll_results, numeric_score, race_id, population "
   ]
  },
  {
   "cell_type": "code",
   "execution_count": 88,
   "metadata": {},
   "outputs": [],
   "source": [
    "#df_polling['ind'].isnull().sum() --> show that the ind had no data and was safe to remove\n",
    "# the entire poll results for independent are empty so they can be dropped. "
   ]
  },
  {
   "cell_type": "code",
   "execution_count": 89,
   "metadata": {},
   "outputs": [
    {
     "name": "stdout",
     "output_type": "stream",
     "text": [
      "     numeric_grade  transparency_score population subpopulation  \\\n",
      "0              2.9                 7.0         lv           NaN   \n",
      "1              2.9                 9.0         rv           NaN   \n",
      "2              2.9                 9.0         rv           NaN   \n",
      "3              2.1                 4.0         lv           NaN   \n",
      "4              2.9                 9.0         rv           NaN   \n",
      "..             ...                 ...        ...           ...   \n",
      "611            1.8                 NaN         rv           NaN   \n",
      "612            1.8                 NaN         rv           NaN   \n",
      "613            1.8                 NaN         rv           NaN   \n",
      "614            1.8                 NaN         rv           NaN   \n",
      "615            1.8                 NaN         rv           NaN   \n",
      "\n",
      "    population_full   dem   rep  \n",
      "0                lv  47.5  45.5  \n",
      "1                rv  45.0  44.0  \n",
      "2                rv  48.0  46.0  \n",
      "3                lv  46.4  47.1  \n",
      "4                rv  45.0  44.0  \n",
      "..              ...   ...   ...  \n",
      "611              rv  47.0  44.0  \n",
      "612              rv  48.0  44.0  \n",
      "613              rv  48.0  44.0  \n",
      "614              rv  48.0  44.0  \n",
      "615              rv  47.0  44.0  \n",
      "\n",
      "[616 rows x 7 columns]\n"
     ]
    }
   ],
   "source": [
    "new_columns = ['numeric_grade', 'transparency_score', 'population','subpopulation','population_full', 'dem','rep'] \n",
    "#df_polling['race_id'].unique()\n",
    "df_polling = df_polling.loc[: , new_columns] \n",
    "print(df_polling)\n"
   ]
  },
  {
   "cell_type": "markdown",
   "metadata": {},
   "source": [
    "Remove subpopulation it is empty, remove LV (likely voters) and keep RV (registered voters) since they are less predicitve then LV. But would this be overfitting? "
   ]
  },
  {
   "cell_type": "code",
   "execution_count": 90,
   "metadata": {},
   "outputs": [
    {
     "data": {
      "text/html": [
       "<div>\n",
       "<style scoped>\n",
       "    .dataframe tbody tr th:only-of-type {\n",
       "        vertical-align: middle;\n",
       "    }\n",
       "\n",
       "    .dataframe tbody tr th {\n",
       "        vertical-align: top;\n",
       "    }\n",
       "\n",
       "    .dataframe thead th {\n",
       "        text-align: right;\n",
       "    }\n",
       "</style>\n",
       "<table border=\"1\" class=\"dataframe\">\n",
       "  <thead>\n",
       "    <tr style=\"text-align: right;\">\n",
       "      <th></th>\n",
       "      <th>numeric_grade</th>\n",
       "      <th>transparency_score</th>\n",
       "      <th>population</th>\n",
       "      <th>population_full</th>\n",
       "      <th>dem</th>\n",
       "      <th>rep</th>\n",
       "    </tr>\n",
       "  </thead>\n",
       "  <tbody>\n",
       "    <tr>\n",
       "      <th>0</th>\n",
       "      <td>2.9</td>\n",
       "      <td>7.0</td>\n",
       "      <td>lv</td>\n",
       "      <td>lv</td>\n",
       "      <td>47.5</td>\n",
       "      <td>45.5</td>\n",
       "    </tr>\n",
       "    <tr>\n",
       "      <th>1</th>\n",
       "      <td>2.9</td>\n",
       "      <td>9.0</td>\n",
       "      <td>rv</td>\n",
       "      <td>rv</td>\n",
       "      <td>45.0</td>\n",
       "      <td>44.0</td>\n",
       "    </tr>\n",
       "    <tr>\n",
       "      <th>2</th>\n",
       "      <td>2.9</td>\n",
       "      <td>9.0</td>\n",
       "      <td>rv</td>\n",
       "      <td>rv</td>\n",
       "      <td>48.0</td>\n",
       "      <td>46.0</td>\n",
       "    </tr>\n",
       "    <tr>\n",
       "      <th>3</th>\n",
       "      <td>2.1</td>\n",
       "      <td>4.0</td>\n",
       "      <td>lv</td>\n",
       "      <td>lv</td>\n",
       "      <td>46.4</td>\n",
       "      <td>47.1</td>\n",
       "    </tr>\n",
       "    <tr>\n",
       "      <th>4</th>\n",
       "      <td>2.9</td>\n",
       "      <td>9.0</td>\n",
       "      <td>rv</td>\n",
       "      <td>rv</td>\n",
       "      <td>45.0</td>\n",
       "      <td>44.0</td>\n",
       "    </tr>\n",
       "    <tr>\n",
       "      <th>...</th>\n",
       "      <td>...</td>\n",
       "      <td>...</td>\n",
       "      <td>...</td>\n",
       "      <td>...</td>\n",
       "      <td>...</td>\n",
       "      <td>...</td>\n",
       "    </tr>\n",
       "    <tr>\n",
       "      <th>611</th>\n",
       "      <td>1.8</td>\n",
       "      <td>NaN</td>\n",
       "      <td>rv</td>\n",
       "      <td>rv</td>\n",
       "      <td>47.0</td>\n",
       "      <td>44.0</td>\n",
       "    </tr>\n",
       "    <tr>\n",
       "      <th>612</th>\n",
       "      <td>1.8</td>\n",
       "      <td>NaN</td>\n",
       "      <td>rv</td>\n",
       "      <td>rv</td>\n",
       "      <td>48.0</td>\n",
       "      <td>44.0</td>\n",
       "    </tr>\n",
       "    <tr>\n",
       "      <th>613</th>\n",
       "      <td>1.8</td>\n",
       "      <td>NaN</td>\n",
       "      <td>rv</td>\n",
       "      <td>rv</td>\n",
       "      <td>48.0</td>\n",
       "      <td>44.0</td>\n",
       "    </tr>\n",
       "    <tr>\n",
       "      <th>614</th>\n",
       "      <td>1.8</td>\n",
       "      <td>NaN</td>\n",
       "      <td>rv</td>\n",
       "      <td>rv</td>\n",
       "      <td>48.0</td>\n",
       "      <td>44.0</td>\n",
       "    </tr>\n",
       "    <tr>\n",
       "      <th>615</th>\n",
       "      <td>1.8</td>\n",
       "      <td>NaN</td>\n",
       "      <td>rv</td>\n",
       "      <td>rv</td>\n",
       "      <td>47.0</td>\n",
       "      <td>44.0</td>\n",
       "    </tr>\n",
       "  </tbody>\n",
       "</table>\n",
       "<p>616 rows × 6 columns</p>\n",
       "</div>"
      ],
      "text/plain": [
       "     numeric_grade  transparency_score population population_full   dem   rep\n",
       "0              2.9                 7.0         lv              lv  47.5  45.5\n",
       "1              2.9                 9.0         rv              rv  45.0  44.0\n",
       "2              2.9                 9.0         rv              rv  48.0  46.0\n",
       "3              2.1                 4.0         lv              lv  46.4  47.1\n",
       "4              2.9                 9.0         rv              rv  45.0  44.0\n",
       "..             ...                 ...        ...             ...   ...   ...\n",
       "611            1.8                 NaN         rv              rv  47.0  44.0\n",
       "612            1.8                 NaN         rv              rv  48.0  44.0\n",
       "613            1.8                 NaN         rv              rv  48.0  44.0\n",
       "614            1.8                 NaN         rv              rv  48.0  44.0\n",
       "615            1.8                 NaN         rv              rv  47.0  44.0\n",
       "\n",
       "[616 rows x 6 columns]"
      ]
     },
     "execution_count": 90,
     "metadata": {},
     "output_type": "execute_result"
    }
   ],
   "source": [
    "df_polling.drop(columns='subpopulation')"
   ]
  },
  {
   "cell_type": "code",
   "execution_count": 91,
   "metadata": {},
   "outputs": [],
   "source": [
    "lv_rv_counts = df_polling['population'].value_counts()\n",
    "\n",
    "labels = lv_rv_counts.index # ['lv', 'rv']\n",
    "size = lv_rv_counts.values # the counts of each catergoty \n",
    "\n",
    "# PIE CHART \n",
    "\n",
    "#plt.pie(size, labels = labels,  autopct='%1.1f%%', startangle=90, colors=['green', 'orange','red'] )\n",
    "#plt.title(\"RV (Registered Voters) vs LV (Likely Voters)\")\n",
    "#plt.axis()"
   ]
  },
  {
   "cell_type": "markdown",
   "metadata": {},
   "source": [
    "Majority of the voters are RV so lets keep the LV with the assumptions that if they participated for the polls then they will participate in the election. "
   ]
  },
  {
   "cell_type": "code",
   "execution_count": 92,
   "metadata": {},
   "outputs": [
    {
     "name": "stdout",
     "output_type": "stream",
     "text": [
      "[47.5  45.   48.   46.4  47.   44.   52.   46.   46.6  42.7  43.7  41.\n",
      " 39.   43.5  44.5  43.   42.   44.4  43.3  43.63 44.6  42.9  49.   39.9\n",
      " 46.8  45.2  50.   43.46 43.9  44.2  41.58 45.4  45.6  42.8  43.2  45.5\n",
      " 44.7  44.3  42.3  39.8  40.6  45.1  38.9  41.4  41.8  36.   42.75 41.9\n",
      " 40.   41.2  41.1  42.87 42.6  40.9  42.54 44.1  51.   44.8  38.   39.5\n",
      " 40.7  40.3  41.3  43.1  42.4  42.1  43.06 41.57 43.6  40.1  44.9  46.3 ]\n",
      "[45.5  44.   46.   47.1  45.   47.   48.   45.2  42.   52.   42.4  43.7\n",
      " 41.   49.   43.   45.1  43.1  43.98 47.3  47.5  41.9  38.1  45.3  45.08\n",
      " 44.8  46.1  50.   40.1  43.77 46.6  51.   49.2  43.6  44.1  43.4  40.\n",
      " 47.9  43.9  42.9  44.2  46.9  36.3  39.   44.01 47.6  46.8  41.4  42.8\n",
      " 44.5  46.7  46.3  45.06 45.9  44.59 46.2  44.4  38.   48.1  45.79 41.3\n",
      " 35.   45.6  46.78 49.1  44.83 48.7  46.5  46.4  42.81 48.4  36.   45.8\n",
      " 45.4  37.   42.2 ]\n"
     ]
    }
   ],
   "source": [
    "print(df_polling['dem'].unique())\n",
    "print(df_polling['rep'].unique())"
   ]
  },
  {
   "cell_type": "markdown",
   "metadata": {},
   "source": [
    "### 2) EDA ( Explatory Data Analysis)"
   ]
  },
  {
   "cell_type": "code",
   "execution_count": 98,
   "metadata": {},
   "outputs": [],
   "source": [
    "df_economy.head(n=10)\n",
    "df_economy['Inflation rate %'] = df_economy['Inflation rate %'].str.rstrip('%').astype(float)\n",
    "df_economy['GDP growth %'] = df_economy['GDP growth %'].str.rstrip('%').astype(float)\n",
    "df_economy['Unemployment %'] = df_economy['Unemployment %'].str.rstrip('%').astype(float)"
   ]
  },
  {
   "cell_type": "code",
   "execution_count": 99,
   "metadata": {},
   "outputs": [
    {
     "data": {
      "text/plain": [
       "<Axes: xlabel='Year', ylabel='Inflation rate %'>"
      ]
     },
     "execution_count": 99,
     "metadata": {},
     "output_type": "execute_result"
    },
    {
     "data": {
      "image/png": "[encoded data removed]",
      "text/plain": [
       "<Figure size 640x480 with 1 Axes>"
      ]
     },
     "metadata": {},
     "output_type": "display_data"
    }
   ],
   "source": [
    "\n",
    "sns.lineplot(data=df_economy, x='Year', y='Inflation rate %', hue='Presidents')"
   ]
  },
  {
   "cell_type": "code",
   "execution_count": 100,
   "metadata": {},
   "outputs": [
    {
     "data": {
      "text/plain": [
       "<Axes: xlabel='Year', ylabel='Inflation rate %'>"
      ]
     },
     "execution_count": 100,
     "metadata": {},
     "output_type": "execute_result"
    },
    {
     "data": {
      "image/png": "[encoded data removed]",
      "text/plain": [
       "<Figure size 640x480 with 1 Axes>"
      ]
     },
     "metadata": {},
     "output_type": "display_data"
    }
   ],
   "source": [
    "sns.lineplot(data=df_economy, x='Year', y='Inflation rate %')\n"
   ]
  },
  {
   "cell_type": "code",
   "execution_count": 101,
   "metadata": {},
   "outputs": [
    {
     "data": {
      "text/plain": [
       "<Axes: xlabel='Year', ylabel='GDP growth %'>"
      ]
     },
     "execution_count": 101,
     "metadata": {},
     "output_type": "execute_result"
    },
    {
     "data": {
      "image/png": "[encoded data removed]",
      "text/plain": [
       "<Figure size 640x480 with 1 Axes>"
      ]
     },
     "metadata": {},
     "output_type": "display_data"
    }
   ],
   "source": [
    "sns.lineplot(data=df_economy, x='Year', y='GDP growth %', color = 'red')"
   ]
  },
  {
   "cell_type": "code",
   "execution_count": null,
   "metadata": {},
   "outputs": [],
   "source": []
  }
 ],
 "metadata": {
  "kernelspec": {
   "display_name": "Python 3",
   "language": "python",
   "name": "python3"
  },
  "language_info": {
   "codemirror_mode": {
    "name": "ipython",
    "version": 3
   },
   "file_extension": ".py",
   "mimetype": "text/x-python",
   "name": "python",
   "nbconvert_exporter": "python",
   "pygments_lexer": "ipython3",
   "version": "3.9.13"
  }
 },
 "nbformat": 4,
 "nbformat_minor": 2
}
