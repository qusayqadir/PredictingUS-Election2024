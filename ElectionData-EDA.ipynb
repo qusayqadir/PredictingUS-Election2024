{
 "cells": [
  {
   "cell_type": "markdown",
   "metadata": {},
   "source": [
    "Before writing code in attempt to predicintg the US Presidential Election winner it is important to understand the data. \n",
    "Collected Data (All data was sourced from Kaggle): \n",
    "- Historical Election Data (2020) \n",
    "- Election Polling (2024)\n",
    "- US President Economic Indicators (1981 - 2021)\n",
    "- Social Sentiment of Election Candidates (Twitter 2020)\n",
    "\n",
    "Historically, the race for the presidential election has been amongst two winning parties \\bold{Democratics} (D) and \\bold{Republicans} (R). Correctly predicitng the election can be challenging, it is even more so when such predictions can be linked to making volatile financial decisions. \n",
    "\n",
    "Such decisions can be linked for decidiing : \n",
    "1. Market Stability  + Investor confidence -> Stock market reaction, investment startegies \n",
    "2. Secotor-Specific Imapcts ( Health, Energy, ...)\n",
    "3. Regulatorty Changes, Corporate Tax Policies, Tariffs and Trade Policies \n",
    "4. Impact on consumptions (interest rates (mortages, loans, bonds))+ Job Market (umemployement rate)\n",
    "\n",
    "\n",
    "Before creating ML and DeepLearning Models it is important to conduct Explaratory Data Analysis (EDA) to better understand the structure of the data you are working with, idenitfying relationships, patterns, outliers and anomalies, to ultimately imporve model performance. \n"
   ]
  },
  {
   "cell_type": "markdown",
   "metadata": {},
   "source": []
  },
  {
   "cell_type": "markdown",
   "metadata": {},
   "source": []
  }
 ],
 "metadata": {
  "language_info": {
   "name": "python"
  }
 },
 "nbformat": 4,
 "nbformat_minor": 2
}
